{
 "cells": [
  {
   "cell_type": "code",
   "execution_count": 2,
   "id": "0a7a652a-cf3e-4007-a5b1-c213c0a4e98a",
   "metadata": {},
   "outputs": [],
   "source": [
    "from tabulate import tabulate\n",
    "import pandas as pd\n",
    "import numpy as np\n",
    "import matplotlib.pyplot as plt"
   ]
  },
  {
   "cell_type": "code",
   "execution_count": 3,
   "id": "8c4f0a8c-a705-4f2a-93e4-597f222d3937",
   "metadata": {
    "scrolled": true
   },
   "outputs": [],
   "source": [
    "df = pd.read_csv(\"Mall_Customers.csv\")\n"
   ]
  },
  {
   "cell_type": "code",
   "execution_count": 4,
   "id": "9418ed7e-663b-4cde-84fe-c019078bf00e",
   "metadata": {},
   "outputs": [
    {
     "name": "stdout",
     "output_type": "stream",
     "text": [
      "Income Range\n",
      "15k-30k      0\n",
      "30k-45k      0\n",
      "45k-60k      0\n",
      "60k-75k      0\n",
      "75k-90k      0\n",
      "90k-105k     0\n",
      "105k-120k    0\n",
      "120k-135k    0\n",
      "Name: count, dtype: int64\n"
     ]
    }
   ],
   "source": [
    "bins = [15000, 30000, 45000, 60000, 75000, 90000, 105000, 120000, 135000]\n",
    "labels = ['15k-30k', '30k-45k', '45k-60k', '60k-75k', '75k-90k', '90k-105k', '105k-120k', '120k-135k']\n",
    "\n",
    "# Crear una nueva columna con los rangos de ingresos anuales\n",
    "df['Income Range'] = pd.cut(df['Annual Income (k$)'], bins=bins, labels=labels, include_lowest=True)\n",
    "\n",
    "# Convertir el género a cadena y contar la frecuencia del género \"male\" en cada rango\n",
    "gender_freq = df[df['Gender'].astype(str) == 'Male']['Income Range'].value_counts()\n",
    "\n",
    "print(gender_freq)"
   ]
  },
  {
   "cell_type": "code",
   "execution_count": null,
   "id": "637dd4a4-3c15-47bb-92bf-5ade5cf3d618",
   "metadata": {},
   "outputs": [],
   "source": []
  }
 ],
 "metadata": {
  "kernelspec": {
   "display_name": "Python 3 (ipykernel)",
   "language": "python",
   "name": "python3"
  },
  "language_info": {
   "codemirror_mode": {
    "name": "ipython",
    "version": 3
   },
   "file_extension": ".py",
   "mimetype": "text/x-python",
   "name": "python",
   "nbconvert_exporter": "python",
   "pygments_lexer": "ipython3",
   "version": "3.12.3"
  }
 },
 "nbformat": 4,
 "nbformat_minor": 5
}
