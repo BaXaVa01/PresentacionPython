{
 "cells": [
  {
   "cell_type": "code",
   "execution_count": 23,
   "id": "0a7a652a-cf3e-4007-a5b1-c213c0a4e98a",
   "metadata": {},
   "outputs": [],
   "source": [
    "from tabulate import tabulate\n",
    "import pandas as pd\n",
    "import numpy as np\n",
    "import matplotlib.pyplot as plt"
   ]
  },
  {
   "cell_type": "code",
   "execution_count": 41,
   "id": "8c4f0a8c-a705-4f2a-93e4-597f222d3937",
   "metadata": {
    "scrolled": true
   },
   "outputs": [],
   "source": [
    "datos = pd.read_csv(\"Mall_Customers.csv\")\n",
    "\n",
    "columnaGenero = datos.Gender\n",
    "columnaAnualIncome = datos.Annual_Income\n",
    "\n"
   ]
  },
  {
   "cell_type": "code",
   "execution_count": 48,
   "id": "637dd4a4-3c15-47bb-92bf-5ade5cf3d618",
   "metadata": {},
   "outputs": [
    {
     "name": "stdout",
     "output_type": "stream",
     "text": [
      "IncomeRange\n",
      "0-20K        6\n",
      "20K-40K     12\n",
      "40K-60K     21\n",
      "60K-80K     30\n",
      "80K-100K    14\n",
      "100K+        5\n",
      "dtype: int64\n"
     ]
    },
    {
     "name": "stderr",
     "output_type": "stream",
     "text": [
      "C:\\Users\\carva\\AppData\\Local\\Temp\\ipykernel_9504\\1967583364.py:13: FutureWarning: The default of observed=False is deprecated and will be changed to True in a future version of pandas. Pass observed=False to retain current behavior or observed=True to adopt the future default and silence this warning.\n",
      "  counter = datos_male.groupby('IncomeRange').size()\n"
     ]
    }
   ],
   "source": [
    "#Aqui hare el recuento de hombres por cada ingreso que haya:\n",
    "# Definir los rangos de ingresos anuales\n",
    "bins = [0, 20, 40, 60, 80, 100, np.inf]\n",
    "labels = ['0-20K', '20K-40K', '40K-60K', '60K-80K', '80K-100K', '100K+']\n",
    "\n",
    "# Crear una nueva columna que representa el rango de ingresos anuales\n",
    "datos['IncomeRange'] = pd.cut(datos['Annual_Income'], bins=bins, labels=labels)\n",
    "\n",
    "# Seleccionar solo las filas donde el género es \"Male\"\n",
    "datos_male = datos[datos['Gender'] == 'Male']\n",
    "\n",
    "# Contar la frecuencia de \"Male\" en cada rango de ingresos anuales\n",
    "counter = datos_male.groupby('IncomeRange').size()\n",
    "\n",
    "print(counter)\n",
    "        "
   ]
  },
  {
   "cell_type": "code",
   "execution_count": 36,
   "id": "eb0a1e4b-4a96-42ef-a7ae-37d9411428c3",
   "metadata": {},
   "outputs": [
    {
     "name": "stdout",
     "output_type": "stream",
     "text": [
      "Empty DataFrame\n",
      "Columns: []\n",
      "Index: []\n"
     ]
    }
   ],
   "source": [
    "\n",
    "\n",
    "contingency_table = pd.crosstab(index=datos['Income_range'], columns=datos['Gender'])\n",
    "print(contingency_table)\n",
    "\n"
   ]
  },
  {
   "cell_type": "code",
   "execution_count": 40,
   "id": "9418ed7e-663b-4cde-84fe-c019078bf00e",
   "metadata": {},
   "outputs": [
    {
     "name": "stdout",
     "output_type": "stream",
     "text": [
      "Empty DataFrame\n",
      "Columns: []\n",
      "Index: []\n"
     ]
    }
   ],
   "source": [
    "bins = [15000, 30000, 45000, 60000, 75000, 90000, 105000, 120000, 135000]\n",
    "labels = ['15k-30k', '30k-45k', '45k-60k', '60k-75k', '75k-90k', '90k-105k', '105k-120k', '120k-135k']\n",
    "\n",
    "# Crear una nueva columna con los rangos de ingresos anuales\n",
    "datos['Income Range'] = pd.cut(datos['Annual_Income'], bins = bins, labels = labels, include_lowest=True)\n",
    "datos['Nueva columna'] = pd.cut(datos['Age'], bins = bins)\n",
    "# Convertir el género a cadena y contar la frecuencia del género \"male\" en cada rango\n",
    "gender_freq = datos[datos['Gender'] == 'Male'] ['Income Range'].value_counts() \n",
    "\n",
    "contingency_table = pd.crosstab(index=datos['Income Range'], columns=datos['Gender'])\n",
    "print(contingency_table)"
   ]
  },
  {
   "cell_type": "code",
   "execution_count": null,
   "id": "7f318740-5aaa-4458-bab0-fc34ad308d84",
   "metadata": {},
   "outputs": [],
   "source": []
  }
 ],
 "metadata": {
  "kernelspec": {
   "display_name": "Python 3 (ipykernel)",
   "language": "python",
   "name": "python3"
  },
  "language_info": {
   "codemirror_mode": {
    "name": "ipython",
    "version": 3
   },
   "file_extension": ".py",
   "mimetype": "text/x-python",
   "name": "python",
   "nbconvert_exporter": "python",
   "pygments_lexer": "ipython3",
   "version": "3.12.3"
  }
 },
 "nbformat": 4,
 "nbformat_minor": 5
}
